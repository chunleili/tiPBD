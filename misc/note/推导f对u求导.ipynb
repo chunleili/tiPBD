{
 "cells": [
  {
   "attachments": {},
   "cell_type": "markdown",
   "metadata": {},
   "source": [
    "目标是推导出\n",
    "\n",
    "$$\n",
    "\\frac{\\partial \\mathbf{f}}{\\partial \\mathbf{u}}=-\\Delta t k\\left[\\mathbf{J}^T \\mathbf{J}+\\frac{\\partial \\mathbf{J}}{\\partial \\mathbf{u}} C\\right]\n",
    "$$"
   ]
  },
  {
   "attachments": {},
   "cell_type": "markdown",
   "metadata": {},
   "source": [
    "其中\n",
    "- f是保守力\n",
    "- u是速度\n",
    "- C是constraint function: C(q)\n",
    "- J是constraint Jacobian， $J=(\\partial C/\\partial q) G$ \n",
    "- k是stiffness\n",
    "- $\\Delta t$是时间步长."
   ]
  },
  {
   "attachments": {},
   "cell_type": "markdown",
   "metadata": {},
   "source": [
    "已知\n",
    "\n",
    "$$\\mathbf{f}=-\\mathbf{G}^T \\frac{\\partial U^T}{\\partial \\mathbf{q}}$$\n",
    "$$J=\\frac{\\partial C}{\\partial q} G$$\n",
    "$$\\Delta q = G u dt$$\n",
    "$$U = \\frac{1}{2}kC^2$$\n",
    "\n",
    "G是kinmatic map, 用于转换广义坐标系与直角坐标系\n",
    "\n",
    "我们这里不加上标的q都默认是q+. 因为q-是已知量（上一时刻的广义位置），而只有下一时刻的位置q+是未知量。\n",
    "\n",
    "由于$\\dot q = G u$所以显式时间积分后$\\Delta q = G u$。因为零点对导数没影响，我们这里就认为零点是0了，所以$q = G u dt$。"
   ]
  },
  {
   "attachments": {},
   "cell_type": "markdown",
   "metadata": {},
   "source": [
    "\\begin{align*}\n",
    "\\partial f/\\partial u&=- \\frac{\\partial(\\mathbf{G}^T \\frac{\\partial U^T}{\\partial \\mathbf{q}})}{\\partial u} \\\\\n",
    "&=-G\\frac{\\partial^2 U}{\\partial q^2}  \\frac{\\partial q}{\\partial u}\\\\\n",
    "&=-G^2 dt  \\frac{\\partial^2 U}{\\partial q^2}\\\\\n",
    "&=-G^2 dt \\frac{kC\\frac{\\partial C}{\\partial q}}{\\partial q}\\\\\n",
    "&=-G^2 dt \\space k \\left( (\\frac{\\partial C}{\\partial q})^2 + C\\frac{\\partial^2 C}{\\partial q^2}\\right)\\\\\n",
    "&=-G^2 dt \\space k \\left((G^{-1}J)^2 + (G^{-1})^2   \\frac{\\partial J}{\\partial q}C\\right)\\\\\n",
    "&=- dt \\space k \\left(J^2 +   \\frac{\\partial J}{\\partial q}C\\right)\n",
    "\\end{align*}"
   ]
  }
 ],
 "metadata": {
  "language_info": {
   "name": "python"
  },
  "orig_nbformat": 4
 },
 "nbformat": 4,
 "nbformat_minor": 2
}
