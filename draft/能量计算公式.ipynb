{
 "cells": [
  {
   "cell_type": "markdown",
   "metadata": {},
   "source": [
    "$$\n",
    "Kinetic Eergy = \\frac{1}{2} \\|(x^{n+1} - \\tilde{x})\\|_{\\mathbf{M}}\n",
    "$$\n",
    "$$\n",
    "Potential Energy = \\frac{1}{2} C^{\\top}(\\mathbf{x})\\tilde{\\alpha} ^{-1} C(\\mathbf{x})\n",
    "$$"
   ]
  }
 ],
 "metadata": {
  "language_info": {
   "name": "python"
  },
  "orig_nbformat": 4
 },
 "nbformat": 4,
 "nbformat_minor": 2
}
