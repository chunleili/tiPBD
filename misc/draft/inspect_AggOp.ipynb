{
 "cells": [
  {
   "cell_type": "code",
   "execution_count": 1,
   "metadata": {},
   "outputs": [
    {
     "data": {
      "text/plain": [
       "matrix([[1, 0, 0, ..., 0, 0, 0],\n",
       "        [1, 0, 0, ..., 0, 0, 0],\n",
       "        [0, 1, 0, ..., 0, 0, 0],\n",
       "        ...,\n",
       "        [0, 0, 0, ..., 0, 0, 1],\n",
       "        [0, 0, 0, ..., 0, 0, 1],\n",
       "        [0, 0, 0, ..., 0, 0, 0]], dtype=int64)"
      ]
     },
     "execution_count": 1,
     "metadata": {},
     "output_type": "execute_result"
    }
   ],
   "source": [
    "import numpy as np\n",
    "import scipy\n",
    "import os,sys,shutil, pathlib\n",
    "\n",
    "os.chdir(\"E:/Dev/tiPBD/\")\n",
    "os.getcwd()\n",
    "\n",
    "AggOp = scipy.io.mmread(\"AggOp.mtx\")\n",
    "AggOp = AggOp.todense()\n",
    "AggOp"
   ]
  },
  {
   "cell_type": "code",
   "execution_count": 2,
   "metadata": {},
   "outputs": [
    {
     "name": "stdout",
     "output_type": "stream",
     "text": [
      "4 17\n"
     ]
    },
    {
     "data": {
      "image/png": "[encoded data removed]",
      "text/plain": [
       "<Figure size 640x480 with 1 Axes>"
      ]
     },
     "metadata": {},
     "output_type": "display_data"
    }
   ],
   "source": [
    "max=0\n",
    "arr = []\n",
    "for i in  range(AggOp.shape[1]):\n",
    "    arr.append(np.sum(AggOp[:,i]))\n",
    "arr = np.array(arr)\n",
    "# print((arr))\n",
    "# draw histogram of arr\n",
    "import matplotlib.pyplot as plt\n",
    "plt.hist(arr)\n",
    "print(arr.min(),arr.max())\n"
   ]
  },
  {
   "cell_type": "code",
   "execution_count": 3,
   "metadata": {},
   "outputs": [
    {
     "data": {
      "text/plain": [
       "(array([   0,    1,   64,   65, 4160, 4224, 4225, 8320], dtype=int64),\n",
       " array([0, 0, 0, 0, 0, 0, 0, 0], dtype=int64))"
      ]
     },
     "execution_count": 3,
     "metadata": {},
     "output_type": "execute_result"
    }
   ],
   "source": [
    "np.where(AggOp[:,0]==1)"
   ]
  },
  {
   "cell_type": "code",
   "execution_count": 4,
   "metadata": {},
   "outputs": [
    {
     "data": {
      "text/plain": [
       "130.0"
      ]
     },
     "execution_count": 4,
     "metadata": {},
     "output_type": "execute_result"
    }
   ],
   "source": [
    "8320/64"
   ]
  },
  {
   "cell_type": "code",
   "execution_count": 5,
   "metadata": {},
   "outputs": [
    {
     "data": {
      "text/plain": [
       "(12416, 968)"
      ]
     },
     "execution_count": 5,
     "metadata": {},
     "output_type": "execute_result"
    }
   ],
   "source": [
    "AggOp.shape"
   ]
  },
  {
   "cell_type": "code",
   "execution_count": 7,
   "metadata": {},
   "outputs": [
    {
     "data": {
      "text/plain": [
       "matrix([[0.11341588, 0.        , 0.        , ..., 0.        , 0.        ,\n",
       "         0.        ],\n",
       "        [0.25790714, 0.        , 0.        , ..., 0.        , 0.        ,\n",
       "         0.        ],\n",
       "        [0.32525883, 0.        , 0.        , ..., 0.        , 0.        ,\n",
       "         0.        ],\n",
       "        ...,\n",
       "        [0.        , 0.        , 0.        , ..., 0.        , 0.        ,\n",
       "         0.1649147 ],\n",
       "        [0.        , 0.        , 0.        , ..., 0.        , 0.        ,\n",
       "         0.1265134 ],\n",
       "        [0.        , 0.        , 0.        , ..., 0.        , 0.        ,\n",
       "         0.03004668]])"
      ]
     },
     "execution_count": 7,
     "metadata": {},
     "output_type": "execute_result"
    }
   ],
   "source": [
    "T = scipy.io.mmread(\"T.mtx\")\n",
    "T = T.todense()\n",
    "T"
   ]
  },
  {
   "cell_type": "code",
   "execution_count": 28,
   "metadata": {},
   "outputs": [
    {
     "name": "stdout",
     "output_type": "stream",
     "text": [
      "[  7   8   9  10  28  29  30  31  51  52  53  54  76 792 793 814 815] [0 0 0 0 0 0 0 0 0 0 0 0 0 0 0 0 0]\n",
      "(array([  7,   8,   9,  10,  28,  29,  30,  31,  51,  52,  53,  54,  76,\n",
      "       792, 793, 814, 815], dtype=int64), array([0, 0, 0, 0, 0, 0, 0, 0, 0, 0, 0, 0, 0, 0, 0, 0, 0], dtype=int64))\n"
     ]
    },
    {
     "data": {
      "text/plain": [
       "matrix([[0.11341588, 0.25790714, 0.32525883, 0.21168525, 0.21813311,\n",
       "         0.22035157, 0.22088477, 0.21591595, 0.21594533, 0.21595199,\n",
       "         0.21595325, 0.21593931, 0.21593802, 0.21592934, 0.21589942,\n",
       "         0.21819569, 0.21765964, 0.21505303, 0.2084546 , 0.28749881,\n",
       "         0.22519346, 0.06349111, 0.20641582, 0.33940767, 0.23240949,\n",
       "         0.27749362, 0.26505374, 0.28820119, 0.26186992, 0.28228632,\n",
       "         0.26204704, 0.282325  , 0.26203845, 0.28230818, 0.26203699,\n",
       "         0.28229917, 0.26499359, 0.28533762, 0.26418409, 0.28220833,\n",
       "         0.39312088, 0.3876411 , 0.26455168, 0.1659917 , 0.24827254,\n",
       "         0.33857488, 0.40904568, 0.2659849 , 0.27260965, 0.27521856,\n",
       "         0.27571834, 0.26950116, 0.26952727, 0.2695348 , 0.26953589,\n",
       "         0.26951859, 0.26951753, 0.26950925, 0.2694839 , 0.27239385,\n",
       "         0.27191256, 0.26914859, 0.26268178, 0.3670471 , 0.30290404,\n",
       "         0.14016172, 0.15942681, 0.20899259, 0.45383517, 0.16349198,\n",
       "         0.16724649, 0.16877969, 0.30266095, 0.16547787, 0.16549305,\n",
       "         0.16549758, 0.29586757, 0.16548462, 0.16548402, 0.16547922,\n",
       "         0.29581303, 0.16659916, 0.16632466, 0.16473145, 0.28911138,\n",
       "         0.19909769, 0.16878483, 0.08644981, 0.19682743, 0.26177773,\n",
       "         0.18088016, 0.19884942, 0.20090018, 0.20510747, 0.19845979,\n",
       "         0.20109751, 0.1985802 , 0.20112175, 0.1985696 , 0.20110605,\n",
       "         0.19856864, 0.20110043, 0.20002232, 0.20248123, 0.19947548,\n",
       "         0.20054004, 0.26199199, 0.2474199 , 0.19062942, 0.13994645,\n",
       "         0.18135125, 0.23368521, 0.26933712, 0.17829351, 0.18214686,\n",
       "         0.18380237, 0.18410963, 0.18020213, 0.18021861, 0.1802237 ,\n",
       "         0.18022439, 0.1802096 , 0.18020895, 0.18020374, 0.18018816,\n",
       "         0.18142426, 0.18113243, 0.17944233, 0.17566392, 0.21847896,\n",
       "         0.18856362, 0.10229691, 0.1848537 , 0.23774251, 0.27337773,\n",
       "         0.18085843, 0.18474072, 0.18643217, 0.18674756, 0.18278656,\n",
       "         0.18280366, 0.18280898, 0.18280971, 0.1827947 , 0.18279403,\n",
       "         0.1827886 , 0.18277243, 0.18402402, 0.18372422, 0.18198945,\n",
       "         0.17817981, 0.22176373, 0.19182687, 0.10490105, 0.2118269 ,\n",
       "         0.27703018, 0.19201783, 0.20822791, 0.2126422 , 0.21466662,\n",
       "         0.21010324, 0.21048302, 0.21023849, 0.2105099 , 0.21022777,\n",
       "         0.21049353, 0.21022666, 0.21048719, 0.21176315, 0.21192526,\n",
       "         0.21114473, 0.20985002, 0.27718393, 0.25954842, 0.20384139,\n",
       "         0.14988304, 0.18703732, 0.13748892, 0.27594752, 0.1825171 ,\n",
       "         0.18643377, 0.1728029 , 0.18848377, 0.1844903 , 0.18450834,\n",
       "         0.17320188, 0.1845148 , 0.18449966, 0.18449893, 0.1744077 ,\n",
       "         0.18447602, 0.1857349 , 0.18542431, 0.22869481, 0.17980991,\n",
       "         0.22385534, 0.19388102, 0.1065532 , 0.18067508, 0.23209141,\n",
       "         0.27625513, 0.17262206, 0.17632857, 0.17796501, 0.18870075,\n",
       "         0.17340878, 0.17342601, 0.17343146, 0.18472887, 0.17340355,\n",
       "         0.17340285, 0.17339728, 0.18468959, 0.17448096, 0.17418745,\n",
       "         0.17251823, 0.18000793, 0.20446691, 0.17711237, 0.09739584,\n",
       "         0.20554739, 0.26841882, 0.18231297, 0.19747875, 0.20190061,\n",
       "         0.20360354, 0.19826875, 0.19839801, 0.1984015 , 0.19842452,\n",
       "         0.19837529, 0.19839263, 0.19837415, 0.19838626, 0.19972837,\n",
       "         0.19964335, 0.19912572, 0.1976682 , 0.25411905, 0.23771976,\n",
       "         0.18698834, 0.13747539, 0.18080557, 0.23224554, 0.26665149,\n",
       "         0.17272437, 0.17643498, 0.1780761 , 0.17838662, 0.1735195 ,\n",
       "         0.17353703, 0.17354263, 0.17354341, 0.17351472, 0.17351399,\n",
       "         0.17350827, 0.17349155, 0.17459103, 0.1742959 , 0.17262213,\n",
       "         0.16900698, 0.20458926, 0.17723007, 0.09749208, 0.18081844,\n",
       "         0.23226083, 0.26666735, 0.17273468, 0.17644579, 0.17808749,\n",
       "         0.17839827, 0.17353103, 0.17354862, 0.17355426, 0.17355504,\n",
       "         0.17352635, 0.17352562, 0.17351985, 0.17350306, 0.17460241,\n",
       "         0.17430702, 0.17263269, 0.16901707, 0.20460151, 0.17724175,\n",
       "         0.09750169, 0.20561605, 0.26848338, 0.18236557, 0.19752164,\n",
       "         0.20196094, 0.2036505 , 0.19833146, 0.19844526, 0.19846533,\n",
       "         0.19847209, 0.19843928, 0.19844022, 0.19843808, 0.19843369,\n",
       "         0.19979205, 0.19969016, 0.19918654, 0.19771201, 0.25419097,\n",
       "         0.23777097, 0.1870457 , 0.13751529, 0.18082458, 0.1377281 ,\n",
       "         0.266675  , 0.17273967, 0.17645104, 0.17307073, 0.17840399,\n",
       "         0.17353673, 0.17355437, 0.17347677, 0.17356083, 0.17353214,\n",
       "         0.1735314 , 0.17468483, 0.17350875, 0.17460799, 0.17431245,\n",
       "         0.22901681, 0.16902195, 0.20460742, 0.17724735, 0.09750632,\n",
       "         0.1807971 , 0.23223284, 0.26667565, 0.17269237, 0.17640275,\n",
       "         0.17804434, 0.17840449, 0.17348308, 0.17350072, 0.1735064 ,\n",
       "         0.17356135, 0.17347807, 0.17347733, 0.17347151, 0.17350925,\n",
       "         0.17455425, 0.17425879, 0.17258465, 0.16902237, 0.20452652,\n",
       "         0.1771773 , 0.09746791, 0.20558719, 0.26844451, 0.18231752,\n",
       "         0.19746889, 0.20190786, 0.20359628, 0.19827247, 0.19838544,\n",
       "         0.19840642, 0.19841231, 0.1983799 , 0.19837995, 0.19837869,\n",
       "         0.1983734 , 0.19973297, 0.1996302 , 0.19912745, 0.19765249,\n",
       "         0.25409303, 0.23767851, 0.18697377, 0.13746221, 0.180797  ,\n",
       "         0.23223282, 0.26663438, 0.17269238, 0.17640276, 0.17804435,\n",
       "         0.17835522, 0.17348309, 0.17350074, 0.17350641, 0.1735072 ,\n",
       "         0.17347808, 0.17347734, 0.17347153, 0.17345469, 0.17455427,\n",
       "         0.1742588 , 0.17258467, 0.16896988, 0.20452653, 0.1771773 ,\n",
       "         0.09746791, 0.18079625, 0.23223216, 0.26663372, 0.17269196,\n",
       "         0.17640232, 0.17804389, 0.17835474, 0.17348261, 0.17350025,\n",
       "         0.17350592, 0.17350671, 0.17347759, 0.17347685, 0.17347104,\n",
       "         0.17345421, 0.17455381, 0.17425836, 0.17258425, 0.16896949,\n",
       "         0.20452603, 0.17717681, 0.09746751, 0.20558398, 0.26844098,\n",
       "         0.18231569, 0.19746666, 0.20190579, 0.20359381, 0.19827025,\n",
       "         0.1983829 , 0.1984041 , 0.19840971, 0.19837756, 0.19837736,\n",
       "         0.19837635, 0.19837083, 0.19973069, 0.19962771, 0.19912533,\n",
       "         0.19765022, 0.25409056, 0.23767583, 0.18697156, 0.13745979,\n",
       "         0.18078785, 0.13820031, 0.26662609, 0.17268711, 0.17639726,\n",
       "         0.17366206, 0.17834924, 0.17347714, 0.17349472, 0.17406936,\n",
       "         0.17350114, 0.17347203, 0.17347129, 0.17526335, 0.17344875,\n",
       "         0.17454847, 0.17425316, 0.2296537 , 0.16896483, 0.2045203 ,\n",
       "         0.17717111, 0.09746293, 0.18171715, 0.23342445, 0.2666102 ,\n",
       "         0.17327481, 0.17699739, 0.17864379, 0.17833797, 0.17406382,\n",
       "         0.17408141, 0.17408703, 0.17348985, 0.17405881, 0.17405809,\n",
       "         0.17405235, 0.17343759, 0.17512105, 0.17482502, 0.17314623,\n",
       "         0.16895513, 0.20508283, 0.17765691, 0.0977273 , 0.20658636,\n",
       "         0.2697654 , 0.1829026 , 0.1980992 , 0.20255487, 0.20424312,\n",
       "         0.19890143, 0.19901084, 0.19903455, 0.1990374 , 0.19900803,\n",
       "         0.19900517, 0.19900687, 0.19899879, 0.20034533, 0.20023993,\n",
       "         0.19974075, 0.19825934, 0.25474457, 0.23828166, 0.18744415,\n",
       "         0.13779202, 0.18154739, 0.23326365, 0.26784555, 0.1731735 ,\n",
       "         0.17689266, 0.17853469, 0.17884437, 0.17395481, 0.17397211,\n",
       "         0.17397758, 0.17397834, 0.17394937, 0.17394867, 0.17394309,\n",
       "         0.17392667, 0.17501282, 0.17471871, 0.17304485, 0.16942234,\n",
       "         0.20496221, 0.17753735, 0.09763473, 0.18123431, 0.23296071,\n",
       "         0.26754335, 0.17298386, 0.17669778, 0.17833266, 0.17864056,\n",
       "         0.17375548, 0.17377251, 0.17377787, 0.1737786 , 0.17374966,\n",
       "         0.17374898, 0.17374353, 0.17372741, 0.1748138 , 0.17452184,\n",
       "         0.17285564, 0.16923899, 0.20473499, 0.17731215, 0.09746361,\n",
       "         0.20529414, 0.26833448, 0.18209533, 0.19721292, 0.20166127,\n",
       "         0.20331219, 0.1979974 , 0.19809516, 0.19812511, 0.19812042,\n",
       "         0.19809829, 0.19808828, 0.19809724, 0.19808234, 0.19943168,\n",
       "         0.19932276, 0.19884839, 0.19737517, 0.25366129, 0.23719677,\n",
       "         0.18649097, 0.13687577, 0.17867606, 0.1666023 , 0.2650005 ,\n",
       "         0.17140798, 0.17508332, 0.20858036, 0.17698778, 0.17214421,\n",
       "         0.17216039, 0.20904292, 0.1721661 , 0.17213743, 0.17213679,\n",
       "         0.21035437, 0.17211644, 0.1731969 , 0.17291458, 0.27790679,\n",
       "         0.16770656, 0.20281703, 0.17540672, 0.09605836, 0.23374668,\n",
       "         0.3027674 , 0.26099661, 0.20633166, 0.21079922, 0.21272321,\n",
       "         0.1744515 , 0.20606065, 0.20607962, 0.20608546, 0.16969638,\n",
       "         0.20604502, 0.20604428, 0.20603834, 0.16964789, 0.20719487,\n",
       "         0.20686088, 0.20492884, 0.16529673, 0.24439764, 0.21086854,\n",
       "         0.11484246, 0.25432237, 0.33622161, 0.21012448, 0.22862577,\n",
       "         0.2332813 , 0.23589697, 0.22769989, 0.22851891, 0.22783868,\n",
       "         0.22854659, 0.22779963, 0.22850178, 0.22779852, 0.22849537,\n",
       "         0.22920145, 0.22979829, 0.22856797, 0.22757816, 0.29397896,\n",
       "         0.27483929, 0.21372319, 0.15481052, 0.20292833, 0.2703381 ,\n",
       "         0.31707881, 0.18871643, 0.1931111 , 0.19491054, 0.19524851,\n",
       "         0.18881442, 0.18883193, 0.18883713, 0.18883786, 0.18880007,\n",
       "         0.18879938, 0.18879393, 0.18877724, 0.18985231, 0.18953643,\n",
       "         0.18771509, 0.18352336, 0.22208568, 0.18844752, 0.09901431,\n",
       "         0.17087787, 0.23537191, 0.28486893, 0.17099598, 0.17534786,\n",
       "         0.17705397, 0.17738155, 0.17153874, 0.17155554, 0.17156033,\n",
       "         0.17156102, 0.17152667, 0.171526  , 0.17152073, 0.17150439,\n",
       "         0.17247468, 0.17216476, 0.17040398, 0.16625541, 0.19965784,\n",
       "         0.16486042, 0.08164514, 0.12379287, 0.21552817, 0.13982769,\n",
       "         0.17021211, 0.16168396, 0.17749508, 0.15819604, 0.17204669,\n",
       "         0.1583101 , 0.17207224, 0.15828362, 0.17203863, 0.15828265,\n",
       "         0.17203253, 0.15925255, 0.17298668, 0.15871815, 0.17086968,\n",
       "         0.20234393, 0.19931369, 0.13110542, 0.08270639, 0.04170696,\n",
       "         0.12010566, 0.17288152, 0.10582896, 0.11031937, 0.11158679,\n",
       "         0.11194161, 0.10826674, 0.10828556, 0.10828918, 0.10828998,\n",
       "         0.10826832, 0.10826765, 0.10826437, 0.10824845, 0.10886214,\n",
       "         0.10856681, 0.1074726 , 0.10360054, 0.12369232, 0.08824611,\n",
       "         0.03491022, 0.16294809, 0.28445276, 0.19526864, 0.21934388,\n",
       "         0.22566466, 0.22790326, 0.22039952, 0.22043311, 0.22056112,\n",
       "         0.22046311, 0.22053441, 0.22042993, 0.22053345, 0.22042187,\n",
       "         0.22165862, 0.22140408, 0.22108627, 0.21859049, 0.28483691,\n",
       "         0.25279852, 0.20066398, 0.04778461, 0.14141122, 0.21310698,\n",
       "         0.14355714, 0.16017614, 0.16436659, 0.15694613, 0.15726474,\n",
       "         0.15736275, 0.1573882 , 0.15734122, 0.15735055, 0.15734193,\n",
       "         0.15734992, 0.15788089, 0.15787417, 0.15775876, 0.15747788,\n",
       "         0.19027413, 0.18559963, 0.16581065, 0.13681044, 0.0354671 ,\n",
       "         0.14921396, 0.22320864, 0.14935111, 0.16646464, 0.17077359,\n",
       "         0.172667  , 0.16346238, 0.16358176, 0.16360109, 0.1636066 ,\n",
       "         0.16356262, 0.16356222, 0.16356191, 0.16355572, 0.16410512,\n",
       "         0.16398595, 0.16367165, 0.16185884, 0.19284696, 0.17260555,\n",
       "         0.14338939, 0.03862048, 0.14638659, 0.21890305, 0.14659144,\n",
       "         0.16338573, 0.16762523, 0.1591356 , 0.15946857, 0.15958916,\n",
       "         0.15960847, 0.1595648 , 0.15956566, 0.15956565, 0.15956492,\n",
       "         0.16010884, 0.1600912 , 0.15997117, 0.15965824, 0.19173213,\n",
       "         0.18701552, 0.1673933 , 0.13912946, 0.03762687, 0.14642166,\n",
       "         0.21895305, 0.14662072, 0.16341819, 0.16765954, 0.16953743,\n",
       "         0.15950365, 0.15962495, 0.15964445, 0.15965071, 0.15960177,\n",
       "         0.15960178, 0.159601  , 0.15959487, 0.16012705, 0.16000636,\n",
       "         0.15969254, 0.15790924, 0.18705278, 0.16742688, 0.13916096,\n",
       "         0.037646  , 0.14641374, 0.21894122, 0.14660998, 0.16340622,\n",
       "         0.16764733, 0.15914501, 0.15947889, 0.15960022, 0.15961975,\n",
       "         0.15957582, 0.1595767 , 0.1595767 , 0.15957592, 0.16011996,\n",
       "         0.16010205, 0.15998133, 0.15966751, 0.19173487, 0.18701701,\n",
       "         0.16739486, 0.13913448, 0.03763939, 0.14641105, 0.21893862,\n",
       "         0.14660857, 0.16340473, 0.16764576, 0.1695235 , 0.15947728,\n",
       "         0.15959856, 0.15961806, 0.15962432, 0.15957498, 0.15957499,\n",
       "         0.15957422, 0.15956809, 0.16010039, 0.15997972, 0.15966595,\n",
       "         0.15788295, 0.18701533, 0.16739329, 0.13913287, 0.03763894,\n",
       "         0.14802653, 0.22138384, 0.14766995, 0.16458948, 0.16886073,\n",
       "         0.1602205 , 0.16055584, 0.16067711, 0.16069652, 0.16065277,\n",
       "         0.16065364, 0.16065364, 0.1606529 , 0.16118399, 0.16116626,\n",
       "         0.1610456 , 0.16073055, 0.19290035, 0.18815459, 0.1684114 ,\n",
       "         0.13997228, 0.03786472, 0.14700763, 0.22032484, 0.14709287,\n",
       "         0.1639811 , 0.16823475, 0.1700972 , 0.15993604, 0.16005262,\n",
       "         0.16007154, 0.1600769 , 0.16002841, 0.16002799, 0.16002773,\n",
       "         0.16002171, 0.16054044, 0.16042457, 0.16011783, 0.15834831,\n",
       "         0.18746203, 0.16775914, 0.13931005, 0.0376527 , 0.21062574,\n",
       "         0.32342561, 0.19191796, 0.21430384, 0.21995668, 0.20284612,\n",
       "         0.2032635 , 0.20339009, 0.20342476, 0.20333787, 0.20335144,\n",
       "         0.2033388 , 0.20335064, 0.20390268, 0.20389559, 0.20374627,\n",
       "         0.20338567, 0.24612782, 0.24004287, 0.21429776, 0.17602419,\n",
       "         0.04679779, 0.11181566, 0.22947968, 0.1472087 , 0.16689247,\n",
       "         0.17223477, 0.17403232, 0.15925191, 0.15924261, 0.15937734,\n",
       "         0.15926632, 0.15931966, 0.15920369, 0.1593189 , 0.15919744,\n",
       "         0.15974326, 0.15951197, 0.15929633, 0.15735632, 0.18715201,\n",
       "         0.1649147 , 0.1265134 , 0.03004668]])"
      ]
     },
     "execution_count": 28,
     "metadata": {},
     "output_type": "execute_result"
    }
   ],
   "source": [
    "x,y = np.where(T[:,2]!=0)\n",
    "print(x,y)\n",
    "print(np.where(T[:,2]!=0))\n",
    "TT = T[T!=0]\n",
    "TT\n",
    "# np.savetxt(\"T.csv\",T,delimiter=\",\")"
   ]
  },
  {
   "cell_type": "code",
   "execution_count": null,
   "metadata": {},
   "outputs": [],
   "source": []
  }
 ],
 "metadata": {
  "kernelspec": {
   "display_name": "Python 3",
   "language": "python",
   "name": "python3"
  },
  "language_info": {
   "codemirror_mode": {
    "name": "ipython",
    "version": 3
   },
   "file_extension": ".py",
   "mimetype": "text/x-python",
   "name": "python",
   "nbconvert_exporter": "python",
   "pygments_lexer": "ipython3",
   "version": "3.10.14"
  }
 },
 "nbformat": 4,
 "nbformat_minor": 2
}
