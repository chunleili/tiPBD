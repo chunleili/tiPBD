{
 "cells": [
  {
   "attachments": {},
   "cell_type": "markdown",
   "metadata": {},
   "source": [
    "现有系统\n",
    "$$\n",
    " \\begin{pmatrix}\n",
    " M &  -\\nabla C\\\\\n",
    " \\nabla C & \\alpha\n",
    "\\end{pmatrix} \n",
    "\\begin{pmatrix}\n",
    "\\Delta x \\\\\n",
    "\\Delta \\lambda\n",
    "\\end{pmatrix}\n",
    "=\n",
    "-\n",
    "\\begin{pmatrix}\n",
    "0 \\\\\n",
    "h\n",
    "\\end{pmatrix}\n",
    "$$\n",
    "对alpha求舒尔补\n",
    "$$\n",
    "S =\n",
    "M + \\nabla C^T \\alpha^{-1} \\nabla C\n",
    "$$\n",
    "利用舒尔补求解方程组\n",
    "$$\n",
    "S \\Delta x = -h \\alpha^{-1} \\nabla C\n",
    "$$\n",
    "其中\n",
    "$$\n",
    "h(x,\\lambda) = C(x) - \\alpha \\lambda\n",
    "$$\n",
    "\n",
    "故最终的方程为\n",
    "$$\n",
    "(M + \\nabla C^T \\alpha^{-1} \\nabla C) \\Delta x = -h \\alpha^{-1} \\nabla C\n",
    "$$"
   ]
  },
  {
   "cell_type": "markdown",
   "metadata": {},
   "source": []
  }
 ],
 "metadata": {
  "kernelspec": {
   "display_name": "ti140",
   "language": "python",
   "name": "python3"
  },
  "language_info": {
   "name": "python",
   "version": "3.10.9"
  },
  "orig_nbformat": 4
 },
 "nbformat": 4,
 "nbformat_minor": 2
}
