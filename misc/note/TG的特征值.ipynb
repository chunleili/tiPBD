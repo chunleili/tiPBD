{
 "cells": [
  {
   "cell_type": "code",
   "execution_count": 6,
   "id": "6a4043af-7e05-4b36-aef1-b4d937429ff2",
   "metadata": {},
   "outputs": [
    {
     "data": {
      "text/plain": [
       "array([[ 0,  2,  0, -1,  0],\n",
       "       [ 0, -1,  0,  2,  0]])"
      ]
     },
     "execution_count": 6,
     "metadata": {},
     "output_type": "execute_result"
    }
   ],
   "source": [
    "import numpy as np\n",
    "A=np.array([[2,-1,0,0,0],\n",
    "            [-1,2,-1,0,0],\n",
    "            [0,-1,2,-1,0],\n",
    "            [0,0,-1,2,-1],\n",
    "            [0,0,0,-1,2]])\n",
    "\n",
    "R=np.array([[1,2,1,0,0],\n",
    "            [0,0,1,2,1]])\n",
    "P = R.T\n",
    "\n",
    "RA = R@A\n",
    "RA"
   ]
  },
  {
   "cell_type": "code",
   "execution_count": 8,
   "id": "6cf097ef",
   "metadata": {},
   "outputs": [
    {
     "data": {
      "text/plain": [
       "array([[ 4, -2],\n",
       "       [-2,  4]])"
      ]
     },
     "execution_count": 8,
     "metadata": {},
     "output_type": "execute_result"
    }
   ],
   "source": [
    "A2 = RA@P\n",
    "A2"
   ]
  },
  {
   "cell_type": "code",
   "execution_count": 12,
   "id": "ca918648",
   "metadata": {},
   "outputs": [
    {
     "data": {
      "text/plain": [
       "array([[2., 1.],\n",
       "       [1., 2.]])"
      ]
     },
     "execution_count": 12,
     "metadata": {},
     "output_type": "execute_result"
    }
   ],
   "source": [
    "A2_inv = np.linalg.inv(A2)\n",
    "A2_inv\n",
    "\n",
    "6*A2_inv"
   ]
  },
  {
   "cell_type": "code",
   "execution_count": 18,
   "id": "020a2f5d",
   "metadata": {},
   "outputs": [
    {
     "data": {
      "text/plain": [
       "array([[0., 3., 0., 0., 0.],\n",
       "       [0., 0., 0., 3., 0.]])"
      ]
     },
     "execution_count": 18,
     "metadata": {},
     "output_type": "execute_result"
    }
   ],
   "source": [
    "6*A2_inv@RA"
   ]
  },
  {
   "cell_type": "code",
   "execution_count": 20,
   "id": "f3eb474a",
   "metadata": {},
   "outputs": [
    {
     "data": {
      "text/plain": [
       "array([[0. , 0.5, 0. , 0. , 0. ],\n",
       "       [0. , 1. , 0. , 0. , 0. ],\n",
       "       [0. , 0.5, 0. , 0.5, 0. ],\n",
       "       [0. , 0. , 0. , 1. , 0. ],\n",
       "       [0. , 0. , 0. , 0.5, 0. ]])"
      ]
     },
     "execution_count": 20,
     "metadata": {},
     "output_type": "execute_result"
    }
   ],
   "source": [
    "S=P@A2_inv@RA\n",
    "S"
   ]
  },
  {
   "cell_type": "code",
   "execution_count": 22,
   "id": "2d5c13ae",
   "metadata": {},
   "outputs": [
    {
     "data": {
      "text/plain": [
       "EigResult(eigenvalues=array([0., 0., 0., 1., 1.]), eigenvectors=array([[0.        , 0.        , 1.        , 0.40824829, 0.        ],\n",
       "       [0.        , 0.        , 0.        , 0.81649658, 0.        ],\n",
       "       [1.        , 0.        , 0.        , 0.40824829, 0.40824829],\n",
       "       [0.        , 0.        , 0.        , 0.        , 0.81649658],\n",
       "       [0.        , 1.        , 0.        , 0.        , 0.40824829]]))"
      ]
     },
     "execution_count": 22,
     "metadata": {},
     "output_type": "execute_result"
    }
   ],
   "source": [
    "np.linalg.eig(S)"
   ]
  },
  {
   "cell_type": "code",
   "execution_count": 23,
   "id": "7cd3f3c5",
   "metadata": {},
   "outputs": [
    {
     "data": {
      "text/plain": [
       "1.0"
      ]
     },
     "execution_count": 23,
     "metadata": {},
     "output_type": "execute_result"
    }
   ],
   "source": [
    "# spectral radius of I-S\n",
    "np.max(np.abs(np.linalg.eig(np.eye(5)-S)[0]))"
   ]
  },
  {
   "cell_type": "code",
   "execution_count": 33,
   "id": "4b770cc3",
   "metadata": {},
   "outputs": [
    {
     "data": {
      "text/plain": [
       "array([[0.33333333, 0.33333333, 0.        , 0.        , 0.        ],\n",
       "       [0.33333333, 0.33333333, 0.33333333, 0.        , 0.        ],\n",
       "       [0.        , 0.33333333, 0.33333333, 0.33333333, 0.        ],\n",
       "       [0.        , 0.        , 0.33333333, 0.33333333, 0.33333333],\n",
       "       [0.        , 0.        , 0.        , 0.33333333, 0.33333333]])"
      ]
     },
     "execution_count": 33,
     "metadata": {},
     "output_type": "execute_result"
    }
   ],
   "source": [
    "# weighted Jacobi\n",
    "I = np.identity(5)\n",
    "M = I - 1/3 * A\n",
    "M"
   ]
  },
  {
   "cell_type": "code",
   "execution_count": 35,
   "id": "cd2ff432",
   "metadata": {},
   "outputs": [
    {
     "data": {
      "text/plain": [
       "array([ 0.00000000e+00,  1.11111111e-01, -1.04083409e-17,  1.11111111e-01,\n",
       "        1.11111111e-01])"
      ]
     },
     "execution_count": 35,
     "metadata": {},
     "output_type": "execute_result"
    }
   ],
   "source": [
    "np.linalg.eig(M@(np.eye(5)-S)@M)[0]"
   ]
  },
  {
   "cell_type": "code",
   "execution_count": 37,
   "id": "63aa21d6",
   "metadata": {},
   "outputs": [
    {
     "data": {
      "text/plain": [
       "array([-2.44016936e-01,  9.10683603e-01,  6.66666667e-01,  3.33333333e-01,\n",
       "        8.86986401e-17])"
      ]
     },
     "execution_count": 37,
     "metadata": {},
     "output_type": "execute_result"
    }
   ],
   "source": [
    "np.linalg.eig(M)[0]"
   ]
  },
  {
   "cell_type": "code",
   "execution_count": 39,
   "id": "eb54a8da",
   "metadata": {},
   "outputs": [
    {
     "data": {
      "text/plain": [
       "array([[ 1. , -0.5,  0. ,  0. ,  0. ],\n",
       "       [ 0. ,  0. ,  0. ,  0. ,  0. ],\n",
       "       [ 0. , -0.5,  1. , -0.5,  0. ],\n",
       "       [ 0. ,  0. ,  0. ,  0. ,  0. ],\n",
       "       [ 0. ,  0. ,  0. , -0.5,  1. ]])"
      ]
     },
     "execution_count": 39,
     "metadata": {},
     "output_type": "execute_result"
    }
   ],
   "source": [
    "I-S"
   ]
  },
  {
   "cell_type": "code",
   "execution_count": 49,
   "id": "7b446307",
   "metadata": {},
   "outputs": [
    {
     "data": {
      "text/plain": [
       "[sin(pi*k/N), sin(2*pi*k/N), sin(3*pi*k/N), sin(4*pi*k/N), sin(5*pi*k/N)]"
      ]
     },
     "execution_count": 49,
     "metadata": {},
     "output_type": "execute_result"
    }
   ],
   "source": [
    "from sympy import symbols, cos, sin, pi\n",
    "k = symbols('k')\n",
    "N = symbols('N')\n",
    "yk = [sin(pi*k/N), sin(2*pi*k/N), sin(3*pi*k/N), sin(4*pi*k/N), sin(5*pi*k/N)]\n",
    "yk\n"
   ]
  },
  {
   "cell_type": "code",
   "execution_count": 46,
   "id": "45fcea4b",
   "metadata": {},
   "outputs": [
    {
     "name": "stdout",
     "output_type": "stream",
     "text": [
      "Collecting sympy\n",
      "  Downloading sympy-1.12-py3-none-any.whl (5.7 MB)\n",
      "Collecting mpmath>=0.19\n",
      "  Downloading mpmath-1.3.0-py3-none-any.whl (536 kB)\n",
      "Installing collected packages: mpmath, sympy\n",
      "Successfully installed mpmath-1.3.0 sympy-1.12\n",
      "Note: you may need to restart the kernel to use updated packages.\n"
     ]
    }
   ],
   "source": [
    "%pip install sympy"
   ]
  },
  {
   "cell_type": "code",
   "execution_count": 54,
   "id": "3825e3f2",
   "metadata": {},
   "outputs": [
    {
     "data": {
      "text/plain": [
       "array([1.0*sin(pi*k/N) - 0.5*sin(2*pi*k/N), 0,\n",
       "       -0.5*sin(2*pi*k/N) + 1.0*sin(3*pi*k/N) - 0.5*sin(4*pi*k/N), 0,\n",
       "       -0.5*sin(4*pi*k/N) + 1.0*sin(5*pi*k/N)], dtype=object)"
      ]
     },
     "execution_count": 54,
     "metadata": {},
     "output_type": "execute_result"
    }
   ],
   "source": [
    "(I-S) @ yk\n"
   ]
  },
  {
   "cell_type": "code",
   "execution_count": 79,
   "id": "07256472",
   "metadata": {},
   "outputs": [
    {
     "name": "stdout",
     "output_type": "stream",
     "text": [
      "1.0*sin(pi*k/N) - 0.5*sin(2*pi*k/N)\n",
      "0\n",
      "-0.5*sin(2*pi*k/N) + 1.0*sin(3*pi*k/N) - 0.5*sin(4*pi*k/N)\n",
      "0\n",
      "-0.5*sin(4*pi*k/N) + 1.0*sin(5*pi*k/N)\n"
     ]
    }
   ],
   "source": [
    "import pprint\n",
    "from sympy import init_printing\n",
    "init_printing()\n",
    "\n",
    "ISy = (I-S) @ yk\n",
    "for i in ISy:\n",
    "    print(i)\n"
   ]
  },
  {
   "cell_type": "code",
   "execution_count": 62,
   "id": "1bf44782",
   "metadata": {},
   "outputs": [
    {
     "data": {
      "image/png": "[encoded data removed]",
      "text/latex": [
       "$\\displaystyle \\left[ \\sin{\\left(\\frac{\\pi \\left(N - k\\right)}{N} \\right)}, \\  \\sin{\\left(\\frac{2 \\pi \\left(N - k\\right)}{N} \\right)}, \\  \\sin{\\left(\\frac{3 \\pi \\left(N - k\\right)}{N} \\right)}, \\  \\sin{\\left(\\frac{4 \\pi \\left(N - k\\right)}{N} \\right)}, \\  \\sin{\\left(\\frac{5 \\pi \\left(N - k\\right)}{N} \\right)}\\right]$"
      ],
      "text/plain": [
       "⎡   ⎛π⋅(N - k)⎞     ⎛2⋅π⋅(N - k)⎞     ⎛3⋅π⋅(N - k)⎞     ⎛4⋅π⋅(N - k)⎞     ⎛5⋅π\n",
       "⎢sin⎜─────────⎟, sin⎜───────────⎟, sin⎜───────────⎟, sin⎜───────────⎟, sin⎜───\n",
       "⎣   ⎝    N    ⎠     ⎝     N     ⎠     ⎝     N     ⎠     ⎝     N     ⎠     ⎝   \n",
       "\n",
       "⋅(N - k)⎞⎤\n",
       "────────⎟⎥\n",
       "  N     ⎠⎦"
      ]
     },
     "execution_count": 62,
     "metadata": {},
     "output_type": "execute_result"
    }
   ],
   "source": [
    "Yk = [sin(pi*(N-k)/N), sin(2*pi*(N-k)/N), sin(3*pi*(N-k)/N), sin(4*pi*(N-k)/N), sin(5*pi*(N-k)/N)]\n",
    "Yk"
   ]
  },
  {
   "cell_type": "code",
   "execution_count": 80,
   "id": "c506c962",
   "metadata": {},
   "outputs": [
    {
     "name": "stdout",
     "output_type": "stream",
     "text": [
      "1.0*sin(pi*(N - k)/N) - 0.5*sin(2*pi*(N - k)/N)\n",
      "0\n",
      "-0.5*sin(2*pi*(N - k)/N) + 1.0*sin(3*pi*(N - k)/N) - 0.5*sin(4*pi*(N - k)/N)\n",
      "0\n",
      "-0.5*sin(4*pi*(N - k)/N) + 1.0*sin(5*pi*(N - k)/N)\n"
     ]
    }
   ],
   "source": [
    "ISY = (I-S) @ Yk\n",
    "for i in ISY:\n",
    "    print(i)"
   ]
  },
  {
   "cell_type": "code",
   "execution_count": 82,
   "id": "6f10732c",
   "metadata": {},
   "outputs": [
    {
     "data": {
      "text/plain": [
       "array([1.0*sin(pi*k/N) - 0.5*sin(2*pi*k/N) + 1.0*sin(pi*(N - k)/N) - 0.5*sin(2*pi*(N - k)/N),\n",
       "       0,\n",
       "       -0.5*sin(2*pi*k/N) + 1.0*sin(3*pi*k/N) - 0.5*sin(4*pi*k/N) - 0.5*sin(2*pi*(N - k)/N) + 1.0*sin(3*pi*(N - k)/N) - 0.5*sin(4*pi*(N - k)/N),\n",
       "       0,\n",
       "       -0.5*sin(4*pi*k/N) + 1.0*sin(5*pi*k/N) - 0.5*sin(4*pi*(N - k)/N) + 1.0*sin(5*pi*(N - k)/N)],\n",
       "      dtype=object)"
      ]
     },
     "execution_count": 82,
     "metadata": {},
     "output_type": "execute_result"
    }
   ],
   "source": [
    "ISY + ISy"
   ]
  },
  {
   "cell_type": "code",
   "execution_count": 86,
   "id": "5d1a356e",
   "metadata": {},
   "outputs": [
    {
     "name": "stdout",
     "output_type": "stream",
     "text": [
      "1.0*sin(pi*k/N) - 0.5*sin(2*pi*k/N) + 1.0*sin(pi*(N - k)/N) - 0.5*sin(2*pi*(N - k)/N)\n",
      "0\n",
      "-0.5*sin(2*pi*k/N) + 1.0*sin(3*pi*k/N) - 0.5*sin(4*pi*k/N) - 0.5*sin(2*pi*(N - k)/N) + 1.0*sin(3*pi*(N - k)/N) - 0.5*sin(4*pi*(N - k)/N)\n",
      "0\n",
      "-0.5*sin(4*pi*k/N) + 1.0*sin(5*pi*k/N) - 0.5*sin(4*pi*(N - k)/N) + 1.0*sin(5*pi*(N - k)/N)\n"
     ]
    }
   ],
   "source": [
    "for i in ISY + ISy:\n",
    "    print(i)"
   ]
  },
  {
   "cell_type": "code",
   "execution_count": 97,
   "id": "981db2f6",
   "metadata": {},
   "outputs": [
    {
     "data": {
      "text/plain": [
       "array([ 3.61803399e+00,  1.38196601e+00, -2.38411352e-16,  3.61803399e+00,\n",
       "        1.38196601e+00])"
      ]
     },
     "execution_count": 97,
     "metadata": {},
     "output_type": "execute_result"
    }
   ],
   "source": [
    "A = np.array([[2,-1,0,0,-1],\n",
    "            [-1,2,-1,0,0],\n",
    "            [0,-1,2,-1,0],\n",
    "            [0,0,-1,2,-1],\n",
    "            [-1,0,0,-1,2]])\n",
    "np.linalg.eigvals(A)"
   ]
  },
  {
   "cell_type": "code",
   "execution_count": 100,
   "id": "543e6546",
   "metadata": {},
   "outputs": [
    {
     "data": {
      "text/plain": [
       "array([[-0.63245553,  0.63245553, -0.4472136 , -0.06553916,  0.09723954],\n",
       "       [ 0.51166727,  0.19543951, -0.4472136 , -0.31672435, -0.56430038],\n",
       "       [-0.19543951, -0.51166727, -0.4472136 ,  0.57800993, -0.44599636],\n",
       "       [-0.19543951, -0.51166727, -0.4472136 , -0.61851536,  0.28865947],\n",
       "       [ 0.51166727,  0.19543951, -0.4472136 ,  0.42276894,  0.62439772]])"
      ]
     },
     "execution_count": 100,
     "metadata": {},
     "output_type": "execute_result"
    }
   ],
   "source": [
    "np.linalg.eig(A)[1]"
   ]
  },
  {
   "cell_type": "markdown",
   "id": "e50f75f9",
   "metadata": {},
   "source": [
    "\\begin{pmatrix}\n",
    " 2 & -1 & 0  & 0 & 0 \\\\\n",
    " -1 & 2 & -1 & 0 & 0 \\\\\n",
    " 0 & -1 & 2 & -1 & 0 \\\\\n",
    " 0 & 0 & -1 & 2 & -1 \\\\\n",
    " 0 & 0 & 0 & -1 & 2 \\\\\n",
    "\\end{pmatrix}"
   ]
  }
 ],
 "metadata": {
  "kernelspec": {
   "display_name": "Python 3 (ipykernel)",
   "language": "python",
   "name": "python3"
  },
  "language_info": {
   "codemirror_mode": {
    "name": "ipython",
    "version": 3
   },
   "file_extension": ".py",
   "mimetype": "text/x-python",
   "name": "python",
   "nbconvert_exporter": "python",
   "pygments_lexer": "ipython3",
   "version": "3.9.12"
  }
 },
 "nbformat": 4,
 "nbformat_minor": 5
}
