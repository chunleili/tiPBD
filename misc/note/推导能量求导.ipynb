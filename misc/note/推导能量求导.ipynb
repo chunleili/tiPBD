{
 "cells": [
  {
   "cell_type": "code",
   "execution_count": 8,
   "metadata": {},
   "outputs": [],
   "source": [
    "from sympy import *\n",
    "from sympy.physics.vector import *\n",
    "from sympy.physics.mechanics import *\n",
    "from sympy.abc import *\n",
    "from IPython.core.interactiveshell import InteractiveShell\n",
    "InteractiveShell.ast_node_interactivity = 'all'\n"
   ]
  },
  {
   "cell_type": "code",
   "execution_count": 9,
   "metadata": {},
   "outputs": [
    {
     "data": {
      "text/latex": [
       "$\\displaystyle \\left[\\begin{matrix}\\sigma_{0} & 0\\\\0 & \\sigma_{1}\\end{matrix}\\right]$"
      ],
      "text/plain": [
       "Matrix([\n",
       "[sigma_0,       0],\n",
       "[      0, sigma_1]])"
      ]
     },
     "execution_count": 9,
     "metadata": {},
     "output_type": "execute_result"
    },
    {
     "data": {
      "text/latex": [
       "$\\displaystyle \\sqrt{\\left(\\sigma_{0} - 1\\right)^{2} + \\left(\\sigma_{1} - 1\\right)^{2}}$"
      ],
      "text/plain": [
       "sqrt((sigma_0 - 1)**2 + (sigma_1 - 1)**2)"
      ]
     },
     "execution_count": 9,
     "metadata": {},
     "output_type": "execute_result"
    }
   ],
   "source": [
    "sigma_0, sigma_1 = symbols('sigma_0 sigma_1', real=True)\n",
    "sigma = Matrix([[sigma_0, 0],\n",
    "                [0, sigma_1],\n",
    "])\n",
    "sigma\n",
    "\n",
    "c = (sigma - eye(2)).norm()\n",
    "c\n"
   ]
  },
  {
   "cell_type": "code",
   "execution_count": 10,
   "metadata": {},
   "outputs": [
    {
     "data": {
      "text/latex": [
       "$\\displaystyle \\left[\\begin{matrix}\\frac{\\sigma_{0} - 1}{\\sqrt{\\left(\\sigma_{0} - 1\\right)^{2} + \\left(\\sigma_{1} - 1\\right)^{2}}} & 0\\\\0 & \\frac{\\sigma_{1} - 1}{\\sqrt{\\left(\\sigma_{0} - 1\\right)^{2} + \\left(\\sigma_{1} - 1\\right)^{2}}}\\end{matrix}\\right]$"
      ],
      "text/plain": [
       "Matrix([\n",
       "[(sigma_0 - 1)/sqrt((sigma_0 - 1)**2 + (sigma_1 - 1)**2),                                                       0],\n",
       "[                                                      0, (sigma_1 - 1)/sqrt((sigma_0 - 1)**2 + (sigma_1 - 1)**2)]])"
      ]
     },
     "execution_count": 10,
     "metadata": {},
     "output_type": "execute_result"
    }
   ],
   "source": [
    "dcdsigma = zeros(2, 2)\n",
    "\n",
    "dcdsigma[0, 0] = diff(c, sigma_0)\n",
    "dcdsigma[1, 1] = diff(c, sigma_1)\n",
    "dcdsigma\n",
    "\n",
    "\n",
    "\n"
   ]
  },
  {
   "cell_type": "code",
   "execution_count": 11,
   "metadata": {},
   "outputs": [
    {
     "data": {
      "text/latex": [
       "$\\displaystyle \\left[\\begin{matrix}U^{T} \\left[\\begin{matrix}1 & 0\\\\0 & 0\\end{matrix}\\right] V & U^{T} \\left[\\begin{matrix}0 & 1\\\\0 & 0\\end{matrix}\\right] V\\\\U^{T} \\left[\\begin{matrix}0 & 0\\\\1 & 0\\end{matrix}\\right] V & U^{T} \\left[\\begin{matrix}0 & 0\\\\0 & 1\\end{matrix}\\right] V\\end{matrix}\\right]$"
      ],
      "text/plain": [
       "Matrix([\n",
       "[U.T*Matrix([\n",
       "[1, 0],\n",
       "[0, 0]])*V, U.T*Matrix([\n",
       "[0, 1],\n",
       "[0, 0]])*V],\n",
       "[U.T*Matrix([\n",
       "[0, 0],\n",
       "[1, 0]])*V, U.T*Matrix([\n",
       "[0, 0],\n",
       "[0, 1]])*V]])"
      ]
     },
     "execution_count": 11,
     "metadata": {},
     "output_type": "execute_result"
    }
   ],
   "source": [
    "dsigmadF = zeros(2, 2)\n",
    "\n",
    "f00, f01, f10, f11 = symbols('f00 f01 f10 f11', real=True)\n",
    "F = Matrix([[f00, f01], [f10, f11]])\n",
    "\n",
    "U = MatrixSymbol('U', 2, 2)\n",
    "V = MatrixSymbol('V', 2, 2)\n",
    "\n",
    "dsigma_df00 = U.transpose() * diff(F, f00) * V\n",
    "dsigma_df01 = U.transpose() * diff(F, f01) * V\n",
    "dsigma_df10 = U.transpose() * diff(F, f10) * V\n",
    "dsigma_df11 = U.transpose() * diff(F, f11) * V\n",
    "\n",
    "dsigmadF[0,0] = dsigma_df00\n",
    "dsigmadF[0,1] = dsigma_df01\n",
    "dsigmadF[1,0] = dsigma_df10\n",
    "dsigmadF[1,1] = dsigma_df11\n",
    "dsigmadF"
   ]
  },
  {
   "cell_type": "code",
   "execution_count": 12,
   "metadata": {},
   "outputs": [
    {
     "data": {
      "text/latex": [
       "$\\displaystyle \\left[\\begin{matrix}\\left[\\begin{matrix}- b_{0, 0} - b_{1, 0} & - b_{0, 1} - b_{1, 1}\\\\0 & 0\\end{matrix}\\right]\\\\\\left[\\begin{matrix}0 & 0\\\\- b_{0, 0} - b_{1, 0} & - b_{0, 1} - b_{1, 1}\\end{matrix}\\right]\\\\\\left[\\begin{matrix}b_{0, 0} & b_{0, 1}\\\\0 & 0\\end{matrix}\\right]\\\\\\left[\\begin{matrix}0 & 0\\\\b_{0, 0} & b_{0, 1}\\end{matrix}\\right]\\\\\\left[\\begin{matrix}b_{1, 0} & b_{1, 1}\\\\0 & 0\\end{matrix}\\right]\\\\\\left[\\begin{matrix}0 & 0\\\\b_{1, 0} & b_{1, 1}\\end{matrix}\\right]\\end{matrix}\\right]$"
      ],
      "text/plain": [
       "[[[[-b[0, 0] - b[1, 0], -b[0, 1] - b[1, 1]], [0, 0]]], [[[0, 0], [-b[0, 0] - b[1, 0], -b[0, 1] - b[1, 1]]]], [[[b[0, 0], b[0, 1]], [0, 0]]], [[[0, 0], [b[0, 0], b[0, 1]]]], [[[b[1, 0], b[1, 1]], [0, 0]]], [[[0, 0], [b[1, 0], b[1, 1]]]]]"
      ]
     },
     "execution_count": 12,
     "metadata": {},
     "output_type": "execute_result"
    }
   ],
   "source": [
    "x_0_0, x_0_1, x_1_0, x_1_1, x_2_0, x_2_1 = symbols('x_0_0 x_0_1 x_1_0 x_1_1 x_2_0 x_2_1', real=True)\n",
    "\n",
    "x_0 = Matrix([x_0_0, x_0_1])\n",
    "x_1 = Matrix([x_1_0, x_1_1])\n",
    "x_2 = Matrix([x_2_0, x_2_1])\n",
    "\n",
    "B = MatrixSymbol('b', 2, 2).as_explicit()\n",
    "\n",
    "Ds = Matrix([x_1 - x_0 ]).row_join(x_2 - x_0)\n",
    "\n",
    "F = Ds * B\n",
    "\n",
    "# basis = [   [x_0_0, x_0_1],\n",
    "#             [x_1_0, x_1_1],\n",
    "#             [x_2_0, x_2_1]  ]\n",
    "basis = [   [x_0_0],\n",
    "            [x_0_1],\n",
    "            [x_1_0],\n",
    "            [x_1_1],\n",
    "            [x_2_0], \n",
    "            [x_2_1]  ]\n",
    "dFdx = derive_by_array(F, basis)\n",
    "dFdx\n",
    "\n"
   ]
  },
  {
   "cell_type": "code",
   "execution_count": 13,
   "metadata": {},
   "outputs": [
    {
     "name": "stdout",
     "output_type": "stream",
     "text": [
      "最终结果如下\n",
      "第一项：dcdsigma = \n"
     ]
    },
    {
     "data": {
      "text/latex": [
       "$\\displaystyle \\left[\\begin{matrix}\\frac{\\sigma_{0} - 1}{\\sqrt{\\left(\\sigma_{0} - 1\\right)^{2} + \\left(\\sigma_{1} - 1\\right)^{2}}} & 0\\\\0 & \\frac{\\sigma_{1} - 1}{\\sqrt{\\left(\\sigma_{0} - 1\\right)^{2} + \\left(\\sigma_{1} - 1\\right)^{2}}}\\end{matrix}\\right]$"
      ],
      "text/plain": [
       "Matrix([\n",
       "[(sigma_0 - 1)/sqrt((sigma_0 - 1)**2 + (sigma_1 - 1)**2),                                                       0],\n",
       "[                                                      0, (sigma_1 - 1)/sqrt((sigma_0 - 1)**2 + (sigma_1 - 1)**2)]])"
      ]
     },
     "execution_count": 13,
     "metadata": {},
     "output_type": "execute_result"
    },
    {
     "name": "stdout",
     "output_type": "stream",
     "text": [
      "第二项：dsigmadF = \n"
     ]
    },
    {
     "data": {
      "text/latex": [
       "$\\displaystyle \\left[\\begin{matrix}U^{T} \\left[\\begin{matrix}1 & 0\\\\0 & 0\\end{matrix}\\right] V & U^{T} \\left[\\begin{matrix}0 & 1\\\\0 & 0\\end{matrix}\\right] V\\\\U^{T} \\left[\\begin{matrix}0 & 0\\\\1 & 0\\end{matrix}\\right] V & U^{T} \\left[\\begin{matrix}0 & 0\\\\0 & 1\\end{matrix}\\right] V\\end{matrix}\\right]$"
      ],
      "text/plain": [
       "Matrix([\n",
       "[U.T*Matrix([\n",
       "[1, 0],\n",
       "[0, 0]])*V, U.T*Matrix([\n",
       "[0, 1],\n",
       "[0, 0]])*V],\n",
       "[U.T*Matrix([\n",
       "[0, 0],\n",
       "[1, 0]])*V, U.T*Matrix([\n",
       "[0, 0],\n",
       "[0, 1]])*V]])"
      ]
     },
     "execution_count": 13,
     "metadata": {},
     "output_type": "execute_result"
    },
    {
     "name": "stdout",
     "output_type": "stream",
     "text": [
      "第三项：dFdx = \n"
     ]
    },
    {
     "data": {
      "text/latex": [
       "$\\displaystyle \\left[\\begin{matrix}\\left[\\begin{matrix}- b_{0, 0} - b_{1, 0} & - b_{0, 1} - b_{1, 1}\\\\0 & 0\\end{matrix}\\right]\\\\\\left[\\begin{matrix}0 & 0\\\\- b_{0, 0} - b_{1, 0} & - b_{0, 1} - b_{1, 1}\\end{matrix}\\right]\\\\\\left[\\begin{matrix}b_{0, 0} & b_{0, 1}\\\\0 & 0\\end{matrix}\\right]\\\\\\left[\\begin{matrix}0 & 0\\\\b_{0, 0} & b_{0, 1}\\end{matrix}\\right]\\\\\\left[\\begin{matrix}b_{1, 0} & b_{1, 1}\\\\0 & 0\\end{matrix}\\right]\\\\\\left[\\begin{matrix}0 & 0\\\\b_{1, 0} & b_{1, 1}\\end{matrix}\\right]\\end{matrix}\\right]$"
      ],
      "text/plain": [
       "[[[[-b[0, 0] - b[1, 0], -b[0, 1] - b[1, 1]], [0, 0]]], [[[0, 0], [-b[0, 0] - b[1, 0], -b[0, 1] - b[1, 1]]]], [[[b[0, 0], b[0, 1]], [0, 0]]], [[[0, 0], [b[0, 0], b[0, 1]]]], [[[b[1, 0], b[1, 1]], [0, 0]]], [[[0, 0], [b[1, 0], b[1, 1]]]]]"
      ]
     },
     "execution_count": 13,
     "metadata": {},
     "output_type": "execute_result"
    }
   ],
   "source": [
    "print('最终结果如下')\n",
    "print('第一项：dcdsigma = ')\n",
    "dcdsigma\n",
    "print('第二项：dsigmadF = ')\n",
    "dsigmadF\n",
    "print('第三项：dFdx = ')\n",
    "dFdx"
   ]
  }
 ],
 "metadata": {
  "kernelspec": {
   "display_name": "base",
   "language": "python",
   "name": "python3"
  },
  "language_info": {
   "codemirror_mode": {
    "name": "ipython",
    "version": 3
   },
   "file_extension": ".py",
   "mimetype": "text/x-python",
   "name": "python",
   "nbconvert_exporter": "python",
   "pygments_lexer": "ipython3",
   "version": "3.10.9"
  },
  "orig_nbformat": 4
 },
 "nbformat": 4,
 "nbformat_minor": 2
}
