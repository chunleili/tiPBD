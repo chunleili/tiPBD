{
 "cells": [
  {
   "cell_type": "code",
   "execution_count": 25,
   "id": "4c3785c7",
   "metadata": {},
   "outputs": [
    {
     "name": "stdout",
     "output_type": "stream",
     "text": [
      "A = \n",
      " [[ 2 -1  0  0]\n",
      " [-1  2 -1  0]\n",
      " [ 0 -1  2 -1]\n",
      " [ 0  0 -1  2]]\n",
      "P = \n",
      " [[1.  0. ]\n",
      " [0.5 0.5]\n",
      " [0.  1. ]\n",
      " [0.  0.5]]\n"
     ]
    }
   ],
   "source": [
    "#small_example_show_TG_spectral_radius\n",
    "import numpy as np\n",
    "import scipy\n",
    "A = np.array([[2,-1,0,0],\n",
    "              [-1,2,-1,0],\n",
    "              [0,-1,2,-1],\n",
    "              [0,0,-1,2]])\n",
    "P = np.array([  [1,     0],\n",
    "                [0.5, 0.5],\n",
    "                [0,     1],\n",
    "                [0,   0.5]])\n",
    "print('A = \\n', A)\n",
    "print('P = \\n', P)"
   ]
  },
  {
   "cell_type": "code",
   "execution_count": 26,
   "id": "9558c297",
   "metadata": {},
   "outputs": [
    {
     "name": "stdout",
     "output_type": "stream",
     "text": [
      "Ac = \n",
      " [[ 1.5 -0.5]\n",
      " [-0.5  1. ]]\n",
      "Ac_inv = \n",
      " [[0.8 0.4]\n",
      " [0.4 1.2]]\n",
      "S = \n",
      " [[ 1.00000000e+00  5.55111512e-17 -2.77555756e-17  0.00000000e+00]\n",
      " [ 5.00000000e-01  0.00000000e+00  5.00000000e-01  0.00000000e+00]\n",
      " [ 0.00000000e+00  0.00000000e+00  1.00000000e+00  0.00000000e+00]\n",
      " [ 0.00000000e+00  0.00000000e+00  5.00000000e-01  0.00000000e+00]]\n",
      "TG = \n",
      " [[ 1.11022302e-16 -5.55111512e-17  2.77555756e-17  0.00000000e+00]\n",
      " [-5.00000000e-01  1.00000000e+00 -5.00000000e-01  0.00000000e+00]\n",
      " [ 0.00000000e+00  0.00000000e+00  0.00000000e+00  0.00000000e+00]\n",
      " [ 0.00000000e+00  0.00000000e+00 -5.00000000e-01  1.00000000e+00]]\n",
      "eigvals =  [0. 1. 1. 0.]\n"
     ]
    }
   ],
   "source": [
    "R = P.T\n",
    "Ac = R @ A @ P\n",
    "print('Ac = \\n', Ac)\n",
    "\n",
    "Ac_inv = np.linalg.inv(Ac)\n",
    "print('Ac_inv = \\n', Ac_inv)\n",
    "\n",
    "S = P@ Ac_inv @ R @ A\n",
    "print('S = \\n', S)\n",
    "\n",
    "TG = np.eye(4) - S\n",
    "print('TG = \\n', TG)\n",
    "\n",
    "eigvals = np.linalg.eigvals(TG)\n",
    "print('eigvals = ', eigvals)"
   ]
  },
  {
   "cell_type": "code",
   "execution_count": 27,
   "id": "41a6dd95",
   "metadata": {},
   "outputs": [
    {
     "name": "stdout",
     "output_type": "stream",
     "text": [
      "M = \n",
      " [[0.33333333 0.33333333 0.         0.        ]\n",
      " [0.33333333 0.33333333 0.33333333 0.        ]\n",
      " [0.         0.33333333 0.33333333 0.33333333]\n",
      " [0.         0.         0.33333333 0.33333333]]\n"
     ]
    }
   ],
   "source": [
    "# Now Add the weighted Jacobi smoother\n",
    "omega = 2./3.\n",
    "D_inv = np.diag(1./np.diag(A))\n",
    "M = np.eye(4)-omega*D_inv@A\n",
    "print('M = \\n', M)"
   ]
  },
  {
   "cell_type": "code",
   "execution_count": 37,
   "id": "76512754",
   "metadata": {},
   "outputs": [
    {
     "name": "stdout",
     "output_type": "stream",
     "text": [
      "eigvals of M_TG_M = \n",
      " [-1.73472348e-17+7.94392798e-18j -1.73472348e-17-7.94392798e-18j\n",
      "  1.11111111e-01+0.00000000e+00j  1.11111111e-01+0.00000000e+00j]\n"
     ]
    }
   ],
   "source": [
    "M_TG_M = M @ TG @ M\n",
    "# print('M_TG_M = \\n', M_TG_M)\n",
    "eig = np.linalg.eigvals(M_TG_M)\n",
    "# list(map('{:.1f}'.format,eig))\n",
    "# eig = np.round(eig, 2)\n",
    "print(f'eigvals of M_TG_M = \\n {eig}')"
   ]
  },
  {
   "cell_type": "code",
   "execution_count": 40,
   "id": "5ed678ac",
   "metadata": {},
   "outputs": [
    {
     "name": "stdout",
     "output_type": "stream",
     "text": [
      "eig M@M\n",
      " [0.76156689 0.29089267 0.01621089 0.04244067]\n"
     ]
    }
   ],
   "source": [
    "eig_M = np.linalg.eigvals(M@M)\n",
    "print(\"eig M@M\\n\",eig_M)"
   ]
  }
 ],
 "metadata": {
  "kernelspec": {
   "display_name": "Python 3 (ipykernel)",
   "language": "python",
   "name": "python3"
  },
  "language_info": {
   "codemirror_mode": {
    "name": "ipython",
    "version": 3
   },
   "file_extension": ".py",
   "mimetype": "text/x-python",
   "name": "python",
   "nbconvert_exporter": "python",
   "pygments_lexer": "ipython3",
   "version": "3.10.14"
  }
 },
 "nbformat": 4,
 "nbformat_minor": 5
}
