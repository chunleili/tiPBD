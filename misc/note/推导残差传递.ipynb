{
 "cells": [
  {
   "attachments": {},
   "cell_type": "markdown",
   "metadata": {},
   "source": [
    "假设x_1为稠密的网格的位置向量，x_2为稀疏的网格位置向量\n",
    "\n",
    "\n",
    "R为稠密网格到稀疏网格的插值矩阵，P为稀疏网格到稠密网格的插值矩阵\n",
    "\n",
    "即\n",
    "$$\n",
    "x_2 = R x_1\n",
    "$$\n",
    "和\n",
    "$$\n",
    "x_1 = P x_2\n",
    "$$\n",
    "\n",
    "在稠密网格上求解的线性系统为\n",
    "$$\n",
    "A_1 x_1 = b_1\n",
    "$$\n",
    "\n",
    "其残差为\n",
    "$$\n",
    "r_1 = b_1 - A_1 x_1\n",
    "$$\n",
    "\n",
    "\n",
    "\n"
   ]
  },
  {
   "attachments": {},
   "cell_type": "markdown",
   "metadata": {},
   "source": [
    "于是 对两边同时乘以R\n",
    "$$\n",
    "Rb_1 - RA_1 x_1 = Rr_1\n",
    "$$"
   ]
  },
  {
   "attachments": {},
   "cell_type": "markdown",
   "metadata": {},
   "source": [
    "因为$x_1 = P x_2$\n",
    "所以\n",
    "$$\n",
    "Rb_1 - RA_1 P x_2 = Rr_1\n",
    "$$"
   ]
  },
  {
   "attachments": {},
   "cell_type": "markdown",
   "metadata": {},
   "source": [
    "$$\n",
    "RA_1 P x_2 = Rb_1 - Rr_1 \\equiv r_2\n",
    "$$"
   ]
  },
  {
   "attachments": {},
   "cell_type": "markdown",
   "metadata": {},
   "source": [
    "故新的线性系统为\n",
    "\n",
    "$$A_2 = RA_1 P$$\n",
    "\n",
    "$$A_2 x_2 = r_2$$"
   ]
  },
  {
   "attachments": {},
   "cell_type": "markdown",
   "metadata": {},
   "source": [
    "所以r_2与r_1的关系为\n",
    "$$\n",
    "r_2 = Rb - Rr_1\n",
    "$$\n",
    "其中b去掉下标是因为他是不变的"
   ]
  },
  {
   "attachments": {},
   "cell_type": "markdown",
   "metadata": {},
   "source": [
    "同理，\n",
    "$$\n",
    "r_3 = Rb - Rr_2\n",
    "$$"
   ]
  },
  {
   "attachments": {},
   "cell_type": "markdown",
   "metadata": {},
   "source": [
    "$$\n",
    "r_3 = Rb - R(Rb - Rr_1) = Rb - R^2b + R^2r_1\n",
    "$$"
   ]
  },
  {
   "attachments": {},
   "cell_type": "markdown",
   "metadata": {},
   "source": [
    "以此类推\n",
    "$$\n",
    "r_4 = Rb - R(Rb - R(Rb - Rr_1)) = Rb - R^2b + R^3b - R^3r_1\n",
    "$$\n",
    "\n",
    "$$\n",
    "r_n = Rb - R^2b + R^3b - \\cdots +(-1)^{n-2}R^{n-1}b + (-1)^{n-1}R^{n-1}r_1\n",
    "$$"
   ]
  },
  {
   "attachments": {},
   "cell_type": "markdown",
   "metadata": {},
   "source": [
    "或者写成递推式\n",
    "$$\n",
    "r_n = Rb - Rr_{n-1}\n",
    "$$"
   ]
  }
 ],
 "metadata": {
  "language_info": {
   "name": "python"
  },
  "orig_nbformat": 4
 },
 "nbformat": 4,
 "nbformat_minor": 2
}
