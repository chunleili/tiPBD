{
 "cells": [
  {
   "cell_type": "code",
   "execution_count": 21,
   "metadata": {},
   "outputs": [
    {
     "name": "stdout",
     "output_type": "stream",
     "text": [
      "[Taichi] Starting on arch=cuda\n"
     ]
    }
   ],
   "source": [
    "import taichi as ti\n",
    "import numpy as np\n",
    "\n",
    "ti.init(arch=ti.cuda)\n",
    "n_particles = 3\n",
    "dim = 2\n",
    "n_elements = 1\n",
    "mu = 1\n",
    "la = 1\n",
    "E = 25000\n",
    "dx = 0.1\n",
    "x = ti.Vector.field(dim, dtype=float, shape=n_particles, needs_grad=True)\n",
    "total_energy = ti.field(dtype=float, shape=(), needs_grad=True)\n",
    "restT = ti.Matrix.field(dim, dim, dtype=float, shape=n_elements)\n",
    "vertices = ti.field(dtype=ti.i32, shape=(n_elements, 3))\n",
    "\n",
    "@ti.func\n",
    "def debug_ti(field:ti.template()):\n",
    "    print(\"---------------------\")\n",
    "    print(\"print inside ti.func\")\n",
    "    print(\"shape: \",field.shape)\n",
    "    for i in field:\n",
    "        print(i, field[i])\n",
    "    print(\"---------------------\")\n",
    "\n",
    "@ti.kernel\n",
    "def compute_total_energy():\n",
    "    for i in range(n_elements):\n",
    "        currentT = compute_T(i)\n",
    "        F = currentT @ restT[i].inverse()\n",
    "        # NeoHookean\n",
    "        I1 = (F @ F.transpose()).trace()\n",
    "        J = F.determinant()\n",
    "        element_energy = 0.5 * mu * (\n",
    "            I1 - 2) - mu * ti.log(J) + 0.5 * la * ti.log(J)**2\n",
    "        total_energy[None] += E * element_energy * dx * dx\n",
    "@ti.func\n",
    "def compute_T(i):\n",
    "    a = vertices[i, 0]\n",
    "    b = vertices[i, 1]\n",
    "    c = vertices[i, 2]\n",
    "    ab = x[b] - x[a]\n",
    "    ac = x[c] - x[a]\n",
    "    return ti.Matrix([[ab[0], ac[0]], [ab[1], ac[1]]])\n",
    "\n",
    "@ti.kernel\n",
    "def initialize():\n",
    "    vertices[0, 0] = 0\n",
    "    vertices[0, 1] = 1\n",
    "    vertices[0, 2] = 2\n",
    "\n",
    "    x[0] = [0.5, 0.5]\n",
    "    x[1] = [0.6, 0.5]\n",
    "    x[2] = [0.5, 0.6]\n",
    "\n",
    "    for i in range(n_elements):\n",
    "        restT[i] = compute_T(i)  # Compute rest T\n",
    "    print(\"print outside ti.func\")\n",
    "    debug_ti(restT)\n",
    "\n",
    "\n",
    "def debug(field):\n",
    "    field_np = field.to_numpy()\n",
    "    print(\"---------------------\")\n",
    "    print(\"shape: \",field_np.shape)\n",
    "    print(\"min, max: \", field_np.min(), field_np.max())\n",
    "    print(field_np)\n",
    "    print(\"---------------------\")\n",
    "    np.savetxt(\"debug.txt\", field_np, fmt=\"%.4f\", delimiter=\"\\t\")\n",
    "    return field_np\n",
    "\n",
    "initialize()\n",
    "# compute_total_energy()\n",
    "# x_np = debug(x)"
   ]
  }
 ],
 "metadata": {
  "kernelspec": {
   "display_name": "base",
   "language": "python",
   "name": "python3"
  },
  "language_info": {
   "codemirror_mode": {
    "name": "ipython",
    "version": 3
   },
   "file_extension": ".py",
   "mimetype": "text/x-python",
   "name": "python",
   "nbconvert_exporter": "python",
   "pygments_lexer": "ipython3",
   "version": "3.10.9"
  },
  "orig_nbformat": 4
 },
 "nbformat": 4,
 "nbformat_minor": 2
}
