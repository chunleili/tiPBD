{
 "cells": [
  {
   "cell_type": "code",
   "execution_count": 1,
   "metadata": {},
   "outputs": [
    {
     "name": "stdout",
     "output_type": "stream",
     "text": [
      "to_read_dir: e:\\Dev\\tiPBD//result/scale3/A/\n"
     ]
    }
   ],
   "source": [
    "import numpy as np\n",
    "import scipy\n",
    "import os, sys\n",
    "from scipy.io import mmread, mmwrite\n",
    "from time import perf_counter\n",
    "from matplotlib import pyplot as plt\n",
    "import pyamg\n",
    "from pyamg.relaxation.smoothing import change_smoothers\n",
    "from collections import namedtuple\n",
    "import argparse\n",
    "import pathlib\n",
    "from pathlib import Path\n",
    "\n",
    "#get the current file path\n",
    "prj_dir = os.path.dirname(os.path.abspath(os.getcwd())) + '/'\n",
    "case_name = 'scale3'\n",
    "\n",
    "to_read_dir = prj_dir + f\"/result/{case_name}/A/\"\n",
    "save_fig = True\n",
    "show_fig = True\n",
    "maxiter = 300\n",
    "early_stop = False\n",
    "tol=1e-10 # relative tolerance\n",
    "postfix = 'F26-0'\n",
    "\n",
    "print(f\"to_read_dir: {to_read_dir}\")\n"
   ]
  },
  {
   "cell_type": "code",
   "execution_count": 2,
   "metadata": {},
   "outputs": [
    {
     "name": "stdout",
     "output_type": "stream",
     "text": [
      "loading data...\n",
      "e:\\Dev\\tiPBD//result/scale3/A/\n",
      "Apath: e:\\Dev\\tiPBD//result/scale3/A/A_F26-0.mtx\n"
     ]
    }
   ],
   "source": [
    "def load_A_b(postfix):\n",
    "    print(\"loading data...\")\n",
    "    print(f\"{to_read_dir}\")\n",
    "    Apath = to_read_dir+f\"A_{postfix}.mtx\"\n",
    "    print(f\"Apath: {Apath}\")\n",
    "    if not os.path.exists(Apath):\n",
    "        print(f\"file {Apath} not exist\")\n",
    "        # sys.exit(1)\n",
    "    A = scipy.io.mmread(to_read_dir+f\"A_{postfix}.mtx\")\n",
    "    A = A.tocsr()\n",
    "    A = A.astype(np.float64)\n",
    "    b = np.loadtxt(to_read_dir+f\"b_{postfix}.txt\", dtype=np.float64)\n",
    "    return A, b\n",
    "\n",
    "A, b = load_A_b(postfix)"
   ]
  },
  {
   "cell_type": "code",
   "execution_count": 3,
   "metadata": {},
   "outputs": [
    {
     "name": "stdout",
     "output_type": "stream",
     "text": [
      "Calculating UA+CG...\n"
     ]
    }
   ],
   "source": [
    "x0 = np.zeros_like(b)\n",
    "allres = []\n",
    "tic = perf_counter()\n",
    "\n",
    "label = \"UA+CG\"\n",
    "print(f\"Calculating {label}...\")\n",
    "ml18 = pyamg.smoothed_aggregation_solver(A, smooth=None, coarse_solver='pinv', max_coarse=2, max_levels=2, keep=True)\n",
    "r = []\n",
    "_ = ml18.solve(b, x0=x0.copy(), tol=tol, residuals=r,maxiter=maxiter, accel='cg',cycle='V')\n",
    "\n",
    "A0 = ml18.levels[0].A\n",
    "A1 = ml18.levels[1].A\n",
    "Agg0 = ml18.levels[0].AggOp"
   ]
  },
  {
   "cell_type": "code",
   "execution_count": 4,
   "metadata": {},
   "outputs": [
    {
     "data": {
      "text/plain": [
       "array([[1, 0, 0, 0],\n",
       "       [1, 0, 0, 0],\n",
       "       [1, 0, 0, 0],\n",
       "       [0, 1, 0, 0],\n",
       "       [0, 1, 0, 0],\n",
       "       [0, 1, 0, 0],\n",
       "       [0, 0, 1, 0],\n",
       "       [0, 0, 1, 0],\n",
       "       [0, 0, 1, 0],\n",
       "       [0, 0, 0, 1],\n",
       "       [0, 0, 0, 1],\n",
       "       [0, 0, 0, 1],\n",
       "       [0, 0, 1, 0],\n",
       "       [0, 0, 1, 0],\n",
       "       [0, 0, 1, 0],\n",
       "       [0, 1, 0, 0],\n",
       "       [0, 0, 1, 0],\n",
       "       [0, 0, 1, 0],\n",
       "       [0, 1, 0, 0],\n",
       "       [0, 1, 0, 0],\n",
       "       [0, 0, 0, 1],\n",
       "       [0, 1, 0, 0],\n",
       "       [0, 1, 0, 0],\n",
       "       [0, 0, 0, 1],\n",
       "       [1, 0, 0, 0],\n",
       "       [1, 0, 0, 0],\n",
       "       [0, 1, 0, 0],\n",
       "       [0, 0, 1, 0],\n",
       "       [0, 1, 0, 0],\n",
       "       [0, 1, 0, 0],\n",
       "       [0, 0, 1, 0],\n",
       "       [0, 0, 1, 0],\n",
       "       [0, 0, 0, 1]], dtype=int8)"
      ]
     },
     "execution_count": 4,
     "metadata": {},
     "output_type": "execute_result"
    }
   ],
   "source": [
    "Agg0.toarray()"
   ]
  },
  {
   "cell_type": "code",
   "execution_count": 5,
   "metadata": {},
   "outputs": [
    {
     "name": "stdout",
     "output_type": "stream",
     "text": [
      "e:\\Dev\\tiPBD//AggOp.mtx\n",
      "file e:\\Dev\\tiPBD//AggOp.mtx exist\n",
      "True\n"
     ]
    },
    {
     "data": {
      "text/plain": [
       "array([1, 1, 1, ..., 1, 1, 1], dtype=int64)"
      ]
     },
     "execution_count": 5,
     "metadata": {},
     "output_type": "execute_result"
    }
   ],
   "source": [
    "\n",
    "path = prj_dir + \"/AggOp.mtx\"\n",
    "print(path)\n",
    "if os.path.exists(path):\n",
    "    print(f\"file {path} exist\")\n",
    "else:\n",
    "    print(f\"file {path} not exist\")\n",
    "AggOp64 = mmread(path)\n",
    "AggOp64 = AggOp64.toarray()\n",
    "# for i in range(10):\n",
    "sumRow = np.sum(AggOp64[:,:],axis=1)\n",
    "# is all row sum to 1?\n",
    "print(np.allclose(sumRow,1))\n",
    "sumRow"
   ]
  },
  {
   "cell_type": "code",
   "execution_count": null,
   "metadata": {},
   "outputs": [],
   "source": [
    "def plot_residuals(data, ax, *args, **kwargs):\n",
    "    title = kwargs.pop(\"title\", \"\")\n",
    "    linestyle = kwargs.pop(\"linestyle\", \"-\")\n",
    "    label = kwargs.pop(\"label\", \"\")\n",
    "    x = np.arange(len(data))\n",
    "    ax.plot(x, data, label=label, linestyle=linestyle, *args, **kwargs)\n",
    "    ax.set_title(title)\n",
    "    ax.set_yscale(\"log\")\n",
    "    ax.set_xlabel(\"iteration\")\n",
    "    ax.set_ylabel(\"relative residual\")\n",
    "    ax.legend(loc=\"upper right\")\n"
   ]
  },
  {
   "cell_type": "code",
   "execution_count": 21,
   "metadata": {},
   "outputs": [
    {
     "name": "stdout",
     "output_type": "stream",
     "text": [
      "Calculating UA+CG replace P with Agg...\n",
      "Calculating UA+CG replace P with Agg...\n"
     ]
    },
    {
     "data": {
      "image/png": "[encoded data removed]",
      "text/plain": [
       "<Figure size 640x480 with 1 Axes>"
      ]
     },
     "metadata": {},
     "output_type": "display_data"
    }
   ],
   "source": [
    "%matplotlib inline\n",
    "\n",
    "label1 = \"UA+CG\"\n",
    "print(f\"Calculating {label}...\")\n",
    "ml1 = pyamg.smoothed_aggregation_solver(A, smooth=None, coarse_solver='pinv', max_coarse=2, max_levels=2, keep=True)\n",
    "r1 = []\n",
    "_ = ml1.solve(b, x0=x0.copy(), tol=tol, residuals=r1,maxiter=maxiter, accel='cg',cycle='V')\n",
    "\n",
    "\n",
    "\n",
    "label = \"UA+CG replace P with Agg\"\n",
    "print(f\"Calculating {label}...\")\n",
    "ml2 = pyamg.smoothed_aggregation_solver(A, smooth=None, coarse_solver='pinv', max_coarse=2, max_levels=2, keep=True)\n",
    "ml2.levels[0].P = Agg0\n",
    "ml2.levels[1].P = AggOp64\n",
    "r2 = []\n",
    "_ = ml2.solve(b, x0=x0.copy(), tol=tol, residuals=r2,maxiter=maxiter, accel='cg',cycle='V')\n",
    "\n",
    "fig, ax = plt.subplots()\n",
    "plot_residuals(r1, ax, label=label1)\n",
    "plot_residuals(r2, ax, label=label)\n",
    "plt.show()"
   ]
  },
  {
   "cell_type": "code",
   "execution_count": null,
   "metadata": {},
   "outputs": [],
   "source": []
  }
 ],
 "metadata": {
  "kernelspec": {
   "display_name": "Python 3",
   "language": "python",
   "name": "python3"
  },
  "language_info": {
   "codemirror_mode": {
    "name": "ipython",
    "version": 3
   },
   "file_extension": ".py",
   "mimetype": "text/x-python",
   "name": "python",
   "nbconvert_exporter": "python",
   "pygments_lexer": "ipython3",
   "version": "3.10.14"
  }
 },
 "nbformat": 4,
 "nbformat_minor": 2
}
