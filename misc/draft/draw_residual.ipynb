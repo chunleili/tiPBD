{
 "cells": [
  {
   "cell_type": "code",
   "execution_count": 42,
   "metadata": {},
   "outputs": [
    {
     "name": "stdout",
     "output_type": "stream",
     "text": [
      "Using matplotlib backend: QtAgg\n"
     ]
    }
   ],
   "source": [
    "%matplotlib  auto\n",
    "import numpy as np\n",
    "import scipy \n",
    "import matplotlib.pyplot as plt\n",
    "import os,sys\n",
    "sys.path.append(os.getcwd())\n",
    "\n",
    "r1_after_pre_smooth = np.loadtxt(\"../../r1_after_pre_smooth.txt\")\n",
    "r1_after_prolongate = np.loadtxt(\"../../r1_after_prolongate.txt\")\n",
    "r1_after_post_smooth = np.loadtxt(\"../../r1_after_post_smooth.txt\")\n",
    "r2 = np.loadtxt(\"../../r2.txt\")\n"
   ]
  },
  {
   "cell_type": "code",
   "execution_count": 47,
   "metadata": {},
   "outputs": [
    {
     "data": {
      "text/plain": [
       "<matplotlib.legend.Legend at 0x28e671b1720>"
      ]
     },
     "execution_count": 47,
     "metadata": {},
     "output_type": "execute_result"
    }
   ],
   "source": [
    "fig, axes = plt.subplots(4, 1)\n",
    "axes[0].plot(r1_after_pre_smooth, label=\"r1_after_pre_smooth\", linestyle=\"--\", color=\"red\")\n",
    "axes[1].plot(r1_after_prolongate, label=\"r1_after_prolongate\", linestyle=\"-.\", color=\"green\")\n",
    "axes[2].plot(r1_after_post_smooth, label=\"r1_after_post_smooth\", linestyle=\":\", color=\"blue\")\n",
    "axes[3].plot(r2, label=\"r2\", linestyle=\":\", color=\"blue\")\n",
    "plt.legend()"
   ]
  },
  {
   "cell_type": "code",
   "execution_count": 39,
   "metadata": {},
   "outputs": [],
   "source": [
    "frequencies, spectrum = scipy.signal.periodogram(r1_after_pre_smooth)\n",
    "\n",
    "# 绘制频谱图\n",
    "plt.plot(frequencies, spectrum, color=\"red\")\n",
    "plt.xlabel('Frequency (Hz)')\n",
    "plt.ylabel('Power Spectral Density')\n",
    "plt.title('Power Spectrum r1_after_pre_smooth')\n",
    "plt.show()"
   ]
  },
  {
   "cell_type": "code",
   "execution_count": 40,
   "metadata": {},
   "outputs": [],
   "source": [
    "frequencies, spectrum = scipy.signal.periodogram(r1_after_prolongate)\n",
    "\n",
    "# 绘制频谱图\n",
    "plt.plot(frequencies, spectrum, color=\"green\")\n",
    "plt.xlabel('Frequency (Hz)')\n",
    "plt.ylabel('Power Spectral Density')\n",
    "plt.title('Power Spectrum  r1_after_prolongate')\n",
    "plt.show()"
   ]
  },
  {
   "cell_type": "code",
   "execution_count": 41,
   "metadata": {},
   "outputs": [],
   "source": [
    "frequencies, spectrum = scipy.signal.periodogram(r1_after_post_smooth)\n",
    "\n",
    "# 绘制频谱图\n",
    "plt.plot(frequencies, spectrum, color=\"blue\")\n",
    "plt.xlabel('Frequency (Hz)')\n",
    "plt.ylabel('Power Spectral Density')\n",
    "plt.title('Power Spectrum r1_after_post_smooth')\n",
    "plt.show()"
   ]
  }
 ],
 "metadata": {
  "kernelspec": {
   "display_name": "ti-release",
   "language": "python",
   "name": "python3"
  },
  "language_info": {
   "codemirror_mode": {
    "name": "ipython",
    "version": 3
   },
   "file_extension": ".py",
   "mimetype": "text/x-python",
   "name": "python",
   "nbconvert_exporter": "python",
   "pygments_lexer": "ipython3",
   "version": "3.10.9"
  },
  "orig_nbformat": 4
 },
 "nbformat": 4,
 "nbformat_minor": 2
}
